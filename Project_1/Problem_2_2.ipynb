{
 "cells": [
  {
   "cell_type": "markdown",
   "id": "5524c57f",
   "metadata": {},
   "source": [
    "## 3-D Gaussian random walk\n",
    "\n",
    "We're now considering a three-dimensional Gaussian random walk represented as:\n",
    "\n",
    "$$ S = \\sum_{j=1}^{N} X_j $$\n",
    "\n",
    "where each $X_j$ is a three-dimensional random vector composed of independent standard normals, i.e., $X_j = (x_1, x_2, x_3)$ and $x_i \\sim N (0, 1)$ for $i = 1, 2, 3$. This can act as a simple model for PMD in optical fibers.\n",
    "\n",
    "We are interested in the probability that the total distance traveled in $N = 100$ steps is larger than a certain value $L: P \\left(|S| > L\\right)$, where $|S| = \\sqrt{s_1^2 + s_2^2+ s_3^2}$.\n",
    "\n",
    "### Questions 2.2\n",
    "\n",
    "**(a)** Write a code to simulate the $N$-step random walk.\n",
    "\n",
    "**(b)** Use a simple Monte Carlo method with $10^5$ trials to compute the probability $P \\left(|S| > 10\\right)$.\n",
    "\n",
    "**(c)** Use importance sampling with $10^5$ trials to compute the probability $P \\left(|S| > 55\\right)$. Think intuitively about how to construct a good biasing distribution in this case.\n",
    "\n",
    "**(d)** Estimate the errors in your Monte Carlo estimates of probability in parts (b) and (c). (Monte Carlo standard errors and/or confidence intervals are sufficient here.)\n",
    "\n",
    "**Note:** It is also possible to derive an analytical expression for the desired probability to verify your simulation results."
   ]
  },
  {
   "cell_type": "code",
   "execution_count": 1,
   "id": "f0b9566c",
   "metadata": {},
   "outputs": [],
   "source": [
    "%matplotlib inline\n",
    "from ipywidgets import interact, interactive, fixed, interact_manual\n",
    "import ipywidgets as widgets"
   ]
  },
  {
   "cell_type": "code",
   "execution_count": 2,
   "id": "42a727e6",
   "metadata": {},
   "outputs": [],
   "source": [
    "import numpy as np\n",
    "import sympy as sympy # a compute algebra system in python\n",
    "import math\n",
    "import matplotlib.pyplot as plt\n",
    "import matplotlib.mlab as mlab\n",
    "import matplotlib\n",
    "font = {'size'   : 14}\n",
    "\n",
    "matplotlib.rc('font', **font)"
   ]
  },
  {
   "cell_type": "markdown",
   "id": "f6c95755",
   "metadata": {},
   "source": [
    "### Problem 2.2 b"
   ]
  },
  {
   "cell_type": "code",
   "execution_count": 3,
   "id": "a3a5327b",
   "metadata": {},
   "outputs": [
    {
     "name": "stdout",
     "output_type": "stream",
     "text": [
      "0.80233\n",
      "[0. 0. 0. ... 1. 1. 0.]\n"
     ]
    }
   ],
   "source": [
    "nsamples = 100\n",
    "mu = 0\n",
    "sigma = 1\n",
    "n_mc_trials = 10**5\n",
    "x1 = np.zeros(nsamples)\n",
    "cumsum_x1 = np.zeros((n_mc_trials, nsamples))\n",
    "x2 = np.zeros(nsamples)\n",
    "cumsum_x2 = np.zeros((n_mc_trials, nsamples))\n",
    "x3 = np.zeros(nsamples)\n",
    "cumsum_x3 = np.zeros((n_mc_trials, nsamples))\n",
    "s1 = np.zeros(n_mc_trials)\n",
    "s2 = np.zeros(n_mc_trials)\n",
    "s3 = np.zeros(n_mc_trials)\n",
    "g_x = np.zeros(n_mc_trials)\n",
    "\n",
    "for ii in range(n_mc_trials):\n",
    "    \n",
    "    x1 = np.random.normal(mu, sigma, nsamples)\n",
    "    x2 = np.random.normal(mu, sigma, nsamples)\n",
    "    x3 = np.random.normal(mu, sigma, nsamples)\n",
    "\n",
    "    cumsum_x1[ii,:] = np.cumsum(x1)\n",
    "    cumsum_x2[ii,:] = np.cumsum(x2)\n",
    "    cumsum_x3[ii,:] = np.cumsum(x3)\n",
    "    \n",
    "    s1[ii] = cumsum_x1[ii,-1]\n",
    "    s2[ii] = cumsum_x2[ii,-1]\n",
    "    s3[ii] = cumsum_x3[ii,-1]\n",
    "    \n",
    "    s = (s1**2 + s2**2 + s3**2)**(1/2)\n",
    "    g_x[ii] = s[ii] > 10\n",
    "    \n",
    "count_2_2_b = np.count_nonzero(s > 10)\n",
    "prob_2_2_b = count_2_2_b/n_mc_trials\n",
    "print(prob_2_2_b)\n",
    "print(g_x)"
   ]
  },
  {
   "cell_type": "markdown",
   "id": "22b45367",
   "metadata": {},
   "source": [
    "### Problem 2.2 d"
   ]
  },
  {
   "cell_type": "code",
   "execution_count": 7,
   "id": "37c74b37",
   "metadata": {},
   "outputs": [
    {
     "name": "stdout",
     "output_type": "stream",
     "text": [
      "1.5818493990000002e-06\n",
      "0.8054751232527398\n",
      "0.8005448767472602\n"
     ]
    }
   ],
   "source": [
    "# Estimate Monte Carlo Error in estimate for P(S>10)\n",
    "mc_error = np.var(g_x)/n_mc_trials\n",
    "z = 1.96 #for 95% confidence interval\n",
    "left_ci = prob_2_2_b + z*((mc_error)**(1/2))\n",
    "right_ci = prob_2_2_b - z*((mc_error)**(1/2))\n",
    "print(mc_error)\n",
    "print(left_ci)\n",
    "print(right_ci)"
   ]
  }
 ],
 "metadata": {
  "kernelspec": {
   "display_name": "Python 3 (ipykernel)",
   "language": "python",
   "name": "python3"
  },
  "language_info": {
   "codemirror_mode": {
    "name": "ipython",
    "version": 3
   },
   "file_extension": ".py",
   "mimetype": "text/x-python",
   "name": "python",
   "nbconvert_exporter": "python",
   "pygments_lexer": "ipython3",
   "version": "3.11.5"
  }
 },
 "nbformat": 4,
 "nbformat_minor": 5
}
